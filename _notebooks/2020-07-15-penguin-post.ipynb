{
 "cells": [
  {
   "cell_type": "markdown",
   "metadata": {},
   "source": [
    "# Penguins in Antarctica\n",
    "> A brief analysis on the penguins on the Palmer archipelago\n",
    "\n",
    "- toc: false \n",
    "- badges: false\n",
    "- comments: false\n",
    "- author: Dennis Lew\n",
    "- categories: [Vizualization, MakeoverMonday, Penguins]"
   ]
  },
  {
   "cell_type": "markdown",
   "metadata": {},
   "source": [
    "![](my_icons/penguin_head.png \"Artwork by @allison_horst\")"
   ]
  },
  {
   "cell_type": "markdown",
   "metadata": {},
   "source": [
    "## About \n",
    "\n",
    "The data that was used for this week's project were collected and made available by Dr. Kristen Gorman and the [Palmer](https://pal.lternet.edu/) Station, Antarctica LTER. Palmer Station is one of three United States [research](https://www.nsf.gov/geo/opp/antarct/usap.jsp) stations located on Anvers Island in the Antarctic Peninsula. They are also part of the Long Term Ecological Research [Network](https://lternet.edu/) who studies ecological processes. With the help of the [palmerpenguins](https://github.com/allisonhorst/palmerpenguins) package in [R](https://www.r-project.org/), some of the variables that were used for this analysis are the penguins flipper length, culmen length, body mass, species, and islands. "
   ]
  },
  {
   "cell_type": "markdown",
   "metadata": {},
   "source": [
    "## The data"
   ]
  },
  {
   "cell_type": "markdown",
   "metadata": {},
   "source": [
    "Along the Palmer archipelago, three out of the nineteen species of penguins could be found. They are the Chinstrap penguins, Gentoo penguins, and the Adélie penguins. These three penguin species are of the genus *Pygoscelis* and are also known as the brush-tailed penguins. As some would already know how penguins walk and toboggan, a unique quality of the brush-tailed penguins is how they use their brush-like tails as a rudder when they swim under water. \n",
    "\n",
    "### Location\n",
    "![](my_icons/penguin_viz1.png)\n",
    "\n",
    "They can be found on three islands along the Anvers region of the Antarctic peninsula. As seen above, Adélie penguins can be found on Biscoe, Dream, and Torgersen island. Chinstraps are mostly found on Dream island and Gentoos mostly on Biscoe island only. \n"
   ]
  },
  {
   "cell_type": "markdown",
   "metadata": {},
   "source": [
    "### Culmen and flipper comparison \n",
    "\n",
    "> Note: The culmen length is on the x-axis and the flipper length is on the y-axis. Each colour and shape reflects the three different species.\n",
    "\n",
    "\n",
    "![](my_icons/penguin_viz2.png)\n",
    "\n",
    "The brush-tailed penguin species are mostly medium to large sized when compared to other species. With the information collected by Palmer Station, their size proportion could also be analyzed. In the visual above, the culmen length and flipper length was observed. These birds usually use their culmen to collect stones for the building of their nest when they start breeding. Stones are, in fact, the only material available to these penguins and the *Pygoscelis* penguins are the only species to do so."
   ]
  },
  {
   "cell_type": "markdown",
   "metadata": {},
   "source": [
    "### Size comparison by island\n",
    "\n",
    "![](my_icons/penguin_viz3.png)"
   ]
  },
  {
   "cell_type": "markdown",
   "metadata": {},
   "source": [
    "### Size comparison by sex\n",
    "\n",
    "![](my_icons/penguin_viz4.png)\n",
    "\n",
    "Out of the three species, the Gentoos and a small proportion of Adélies found mostly on Biscoe and Dream island are the biggest in terms of its flipper length and its body mass. Adélie males are also generally bigger than the females whereas, Gentoo males are almost the same size as the females. \n",
    "\n",
    "For more facts about penguins, please check out the other sources provided below. If anyone is interested in the R package that I've used to visualize the data, check out the links below."
   ]
  },
  {
   "cell_type": "markdown",
   "metadata": {},
   "source": [
    "## References:\n",
    "\n",
    "- R package (palmerpenguins)\n",
    "\n",
    "Horst AM, Hill AP, Gorman KB (2020). palmerpenguins: Palmer Archipelago (Antarctica) penguin\n",
    "  data. R package version 0.1.0. https://allisonhorst.github.io/palmerpenguins/ \n",
    "  \n",
    "- Data originally published in:\n",
    "\n",
    "Gorman KB, Williams TD, Fraser WR (2014). Ecological sexual dimorphism and environmental variability within a community of Antarctic penguins (genus Pygoscelis). PLoS ONE 9(3):e90081. https://doi.org/10.1371/journal.pone.0090081 \n",
    "\n",
    "- Other sources:\n",
    "\n",
    "https://www.thespruce.com/penguin-species-list-385429 \n",
    "https://www.livescience.com/27434-penguin-facts.html\n"
   ]
  },
  {
   "cell_type": "markdown",
   "metadata": {},
   "source": [
    "> Note: According to the Data Use Agreement by the National Science Foundation LTER Network, the data are being updated periodically and the data user should be responsible to check for newer versions. For more information, visit [here](https://lternet.edu/data-access-policy/).\n"
   ]
  }
 ],
 "metadata": {
  "kernelspec": {
   "display_name": "Python 3",
   "language": "python",
   "name": "python3"
  },
  "language_info": {
   "codemirror_mode": {
    "name": "ipython",
    "version": 3
   },
   "file_extension": ".py",
   "mimetype": "text/x-python",
   "name": "python",
   "nbconvert_exporter": "python",
   "pygments_lexer": "ipython3",
   "version": "3.7.3"
  }
 },
 "nbformat": 4,
 "nbformat_minor": 2
}
