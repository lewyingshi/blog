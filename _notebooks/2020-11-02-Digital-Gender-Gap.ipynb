{
 "cells": [
  {
   "cell_type": "markdown",
   "metadata": {},
   "source": [
    "# Being offline is to be disconnected\n",
    "> Why do you have access to the internet but **she** doesn't?\n",
    "\n",
    "- toc: false \n",
    "- badges: false\n",
    "- comments: false\n",
    "- author: Dennis Lew\n",
    "- categories: [Tableau, MakeoverMonday, Vizualization, Viz5]"
   ]
  },
  {
   "cell_type": "markdown",
   "metadata": {},
   "source": [
    "The Internet is a link. One that tethers us to answers, education, opportunities, and a plethora of other things. Most of us are oblivious to what it is exactly other than to leisurely browse through hours of Youtube videos, scroll through hundreds of Instagram and Facebook posts, or notoriously start threads of banter on Twitter. The [Internet](https://www.theguardian.com/technology/2018/oct/22/what-is-the-internet-13-key-questions-answered) is in fact a network that connects individuals, organizations, governments, educational institutions and companies through a series of cables that run for thousands of miles. This complex infrastructure is what connects us all. But are we all connected?\n",
    "\n",
    "The past year has shown everyone that it is imperative to have an online and virtually connected community. Since the pandemic began, many are missing out such opportunities, and more are unable to attain a proper education via online communication platforms. The pandemic has since continue to affect families, communities, and countries worldwide. COVID-19 has indeed exacerbated the gender divide and elucidated existing disparities. It is known that about half the world's population are currently [online](https://www.theguardian.com/technology/2018/oct/22/what-is-the-internet-13-key-questions-answered). More importantly, the other half do not have access to the Internet at all. The majority of these offline population are women in Low- and Middle- Income Countries (LMIC). \n",
    "\n",
    "> \"To be offline today means to miss out on learning and earning, accessing valuable services, and participating in the democratic public debate. The digital divide between people who have internet access and those who do not could be deepening existing gender inequalities, pushing women further to the margins of society.” - World Wide Web Foundation (2)\n",
    "\n",
    "To get more information about the digital gender gap, we can explore the data. The data comes from the [Inclusive Internet Index](https://theinclusiveinternet.eiu.com/), a project of the [Economist Intelligence Unit](https://www.eiu.com/n/). The data shows gender inequity in access to the Internet and mobile phones. The differences are perpetually rising in some countries, stagnant in some, and only a small proportion that shows progress. "
   ]
  },
  {
   "cell_type": "markdown",
   "metadata": {},
   "source": [
    "![](my_icons/2020/Week_44/Country.png)"
   ]
  },
  {
   "cell_type": "markdown",
   "metadata": {},
   "source": [
    "The graph above depicts the percentage of households with internet access at home. Access may be through a computer, mobile phones, digital TVs, or other devices. The colors represent the gaps between male and female access to the Internet. The red indicates that female's access to the internet are greater than males for that particular country. As you can see, the differences are staggering. Countries like the United States showed no difference, which could be classified as an ideal result. Many areas that have little to completely no access to the Internet can also be found in Africa. \n",
    "\n",
    "> “The gender gap in mobile internet use in low- and middle-income countries remains\n",
    "substantial, with over 300 million fewer women than men accessing the internet on a mobile…\n",
    "Women across low- and middle-income countries are eight per cent less likely than men to own\n",
    "a mobile phone, which translates into 165 million fewer women than men owning a mobile.” (3)"
   ]
  },
  {
   "cell_type": "markdown",
   "metadata": {},
   "source": [
    "![](my_icons/2020/Week_44/Comparison.png)"
   ]
  },
  {
   "cell_type": "markdown",
   "metadata": {},
   "source": [
    "> Note: The dataset and graphs shows only a subset of the countries provided by the Economist Intelligence Unit (EIU) Inclusive Internet Index of 2020. Positive values indicate that male access exceeds female access, while negative values indicate female access is greater. The gender gap ratio is calculated as (% Male access - % Female access) / % Male access."
   ]
  },
  {
   "cell_type": "markdown",
   "metadata": {},
   "source": [
    "To communicate is also to stay connected. Unfortunately, many also do not have equal access to mobile phones. The comparison above also shows the gender gaps in different countries, but it is filtered with access to both the Internet and to mobile phones. Pakistan has the largest difference of male to female access with each reaching about 71%. Phillipines has about 14% more females accessing the Internet than males and only a small percentage of males exceeding females in having access to mobile phones, a good sign. Zimbabwe has more female access to mobile phones but more male access to the Internet. \n",
    "\n",
    "These are just some of the many details of the digital gap that exists in our midst. Some of the reasons for these existing disparities are linked to the availability to each services, the affordability of internet/mobile data plans, and also the readiness to access it. \n",
    "\n",
    "As nations are convalescing from the pandemic, bridging the gap of gender inequality would require a collective effort of conversations, awareness, and initiative. "
   ]
  },
  {
   "cell_type": "markdown",
   "metadata": {},
   "source": [
    "Sources: \n",
    "1. https://theinclusiveinternet.eiu.com/\n",
    "2. https://webfoundation.org/2020/03/the-gender-gap-in-internet-access-using-a-women-centred-method/ \n",
    "3. https://www.gsma.com/mobilefordevelopment/wp-content/uploads/2020/05/GSMA-The-Mobile-Gender-Gap-Report-2020.pdf\n",
    "4. https://www.theguardian.com/technology/2018/oct/22/what-is-the-internet-13-key-questions-answered\n",
    "5. https://data.world/makeovermonday/2020w44/workspace/file?filename=20201028+Viz5+Dataset+%239+Digital+Gender+Gap.pdf"
   ]
  },
  {
   "cell_type": "code",
   "execution_count": null,
   "metadata": {},
   "outputs": [],
   "source": []
  }
 ],
 "metadata": {
  "kernelspec": {
   "display_name": "Python 3",
   "language": "python",
   "name": "python3"
  },
  "language_info": {
   "codemirror_mode": {
    "name": "ipython",
    "version": 3
   },
   "file_extension": ".py",
   "mimetype": "text/x-python",
   "name": "python",
   "nbconvert_exporter": "python",
   "pygments_lexer": "ipython3",
   "version": "3.7.7"
  }
 },
 "nbformat": 4,
 "nbformat_minor": 4
}
