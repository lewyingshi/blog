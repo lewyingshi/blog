{
 "cells": [
  {
   "cell_type": "markdown",
   "metadata": {},
   "source": [
    "# Religion and homosexuality\n",
    "> An overview on Pew Research Center's 2019 survey on the acceptability of homosexuality\n",
    "\n",
    "- toc: false \n",
    "- badges: false\n",
    "- comments: false\n",
    "- author: Dennis Lew\n",
    "- categories: [Vizualization, MakeoverMonday, Homosexuality]"
   ]
  },
  {
   "cell_type": "markdown",
   "metadata": {},
   "source": [
    "This article is a personal reflection of Pew Research Center's analysis on the acceptability of homosexuality, particularly focused on religion. This survey was conducted among 38,426 people in 34 countries from May 13 to Oct. 2, 2019. It included a variation of face to face interviews and phone calls in different countries where the survey took place. The full question to the survey in this analysis was, \"And which one of these comes closer to your opinion? Homosexuality should be accepted by society OR Homosexuality should not be accepted by society.”\n",
    "\n",
    "> Notes: To get more details on the [methods](https://www.pewresearch.org/methodology/international-survey-research/international-methodology/all-survey/all-country/all-year) and how this survey was conducted, read the full article [here](https://www.pewresearch.org/global/2020/06/25/global-divide-on-homosexuality-persists/)."
   ]
  },
  {
   "cell_type": "markdown",
   "metadata": {},
   "source": [
    "The question stated above was first asked in the U.S. by the Pew Research Center in 1994 and was later asked globally in 2002. The survey went on to be conducted in 2007, 2011, 2013, and recently in 2019. Hence, this is survey is a follow up to the one conducted in 2013. The question asked is a long-term trend to be continuously observed and some of the changes recorded over the years were substantial. \n",
    "\n",
    "The changes in the perceptions toward homosexuality have most certainly taken a positive turn in many countries as they have begun to embrace homosexuality in societies. Many are also supportive in the legalization of gay marriages. But on the other end of the spectrum, some countries are still hesitant to accept this sexual orientation or the idea of being attracted to another individual of the same sex. The full [article](https://www.pewresearch.org/global/2020/06/25/global-divide-on-homosexuality-persists/) put out by Pew Reseach Center mentions the many different factors that contribute to the varying results of acceptance, and some of which included a country's wealth, an individual's age, education, income, gender, political ideology and also religion. "
   ]
  },
  {
   "cell_type": "markdown",
   "metadata": {},
   "source": [
    "![](my_icons/week_29/Religion.png)"
   ]
  },
  {
   "cell_type": "markdown",
   "metadata": {},
   "source": [
    "Poeple with individual fundamental religious beliefs in these countries also have opposing views with the notion of homosexuality being accepted by society. In 25 out of the 34 countries surveyed, those who say religion is important are less likely to say that homosexuality should be accepted than those who say religion is \"somewhat\", \"not too\" or \"not at all\" important in their lives. \n",
    "\n",
    "Interestingly, the significant differences could be observed in countries such as Israel (40%), Czech Republic (38%), South Korea (38%), Canada (33%), the United States (29%), Slovakia (29%), Greece (28%), and Turkey (26%). \n",
    "\n",
    "This [survey](https://www.pewresearch.org/global/2020/06/25/global-divide-on-homosexuality-persists/) also attributed these opposing views to religious affiliations. It was mentioned as a huge factor contributing to the results of the acceptance of homosexuality within this particular category. The comparisons were between religious \"nones\" (those who identify as atheist, agnostic or \"nothing in particular\") and those who are religiously affiliated (e.g. Christians, Buddhist, Muslims, etc.) Those who are unaffiliated to a religion tend to say that homosexuality should be accepted by society. "
   ]
  },
  {
   "cell_type": "markdown",
   "metadata": {},
   "source": [
    "## References: \n",
    "- Data article and source\n",
    "\n",
    "Poushter, J., Kent, N. (2020, June 25). Views of Homosexuality Around the World. Retrieved July 20, 2020, from https://www.pewresearch.org/global/2020/06/25/global-divide-on-homosexuality-persists/"
   ]
  },
  {
   "cell_type": "code",
   "execution_count": null,
   "metadata": {},
   "outputs": [],
   "source": []
  }
 ],
 "metadata": {
  "kernelspec": {
   "display_name": "Python 3",
   "language": "python",
   "name": "python3"
  },
  "language_info": {
   "codemirror_mode": {
    "name": "ipython",
    "version": 3
   },
   "file_extension": ".py",
   "mimetype": "text/x-python",
   "name": "python",
   "nbconvert_exporter": "python",
   "pygments_lexer": "ipython3",
   "version": "3.7.3"
  }
 },
 "nbformat": 4,
 "nbformat_minor": 2
}
