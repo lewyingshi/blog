{
 "cells": [
  {
   "cell_type": "markdown",
   "metadata": {},
   "source": [
    "# Women In Power\n",
    "> A look on the proportion of seats held by women in national parliaments in the past 20 years\n",
    "\n",
    "- toc: true\n",
    "- badges: false\n",
    "- author: Dennis Lew\n",
    "- categories: [Visualization, MakeoverMonday, Gender Equality, Politics]"
   ]
  },
  {
   "cell_type": "markdown",
   "metadata": {},
   "source": [
    "## About"
   ]
  },
  {
   "cell_type": "markdown",
   "metadata": {},
   "source": [
    "“Women in every part of the world continue to be largely marginalized from the political sphere, often as a result of discriminatory laws, practices, attitudes and gender stereotypes, low levels of education, lack of access to health care and the disproportionate effect of poverty on women.” - 2011 UN General Assembly Resolution on Women’s Political Participation"
   ]
  },
  {
   "cell_type": "markdown",
   "metadata": {},
   "source": [
    "Systemic inequality between men and women continues to persist across the globe, and light has yet to be fully shone on the problem. As decades past, some countries are progressing towards gender equality and some are still refusing to acknowledge that this is a deep-rooted issue. Though the former resulted in slow changes but the future is definitely bright. Today, there are many available sources that educate people on the problems of gender inequality that women face on a day-to-day basis. The data for this article's findings comes from the Inter-Parliamentary Union [(IPU)](https://www.ipu.org/), which has also been collated by [The World Bank](https://www.worldbank.org/) to reveal the proportion of seats held by women in national parliaments. This dataset is part of The World Bank's World Development Indicators and it explores the parliamentary participation of women at a national level."
   ]
  },
  {
   "cell_type": "markdown",
   "metadata": {},
   "source": [
    "> Note: This dataset covers only the single chamber in unicameral parliaments and the lower chamber in bicameral parliaments."
   ]
  },
  {
   "cell_type": "markdown",
   "metadata": {},
   "source": [
    "## Changes"
   ]
  },
  {
   "cell_type": "markdown",
   "metadata": {},
   "source": [
    "### By region\n",
    "The overall proportion of seats held by women in national parliaments have increased in the past 20 years. Though the overall change is small, there are still some noteworthy observations worth highlighting. In 2019, women who held the largest proportion of seats (32%) in parliament were found in Latin America & Caribbean. The region with the largest change, however, was North America with a 26% increase. The region with the smallest changes in proportion but, not the least was in East Asia & Pacific. "
   ]
  },
  {
   "cell_type": "markdown",
   "metadata": {},
   "source": [
    "![](my_icons/Week_30/by_region.png)"
   ]
  },
  {
   "cell_type": "markdown",
   "metadata": {},
   "source": [
    "### In top economies\n",
    "\n",
    "The richest countries in the world have also shown interesting results. Mexico, the second-largest economy in Latin America, is the 15th-largest economy in the world today, and it has reflected a 32% increase in its numbers. It also held the largest proportion of women in parliament when compared to other top economies. Though economies are constantly growing, it truly does not highlight the underlying problem of gender inequality the country faces. Japan, for instance, is the third largest economy in the world and yet, the proportion of women in parliament is still at 10%, with a mere increase of 3% since the year 2000. Netherlands also reflected in a 5% decrease in 2019. Though these developed countries are continuously moving forward, there is still a need to overcome such hurdles that impede the true representation of growth in humanity. "
   ]
  },
  {
   "cell_type": "markdown",
   "metadata": {},
   "source": [
    "![](my_icons/Week_30/top_economies.png)"
   ]
  },
  {
   "cell_type": "markdown",
   "metadata": {},
   "source": [
    "### By countries\n",
    "\n",
    "Without filters of other economic indicators, there were also significant changes that took place in other countries around the world. The most notable change came from United Arab Emirates, with an increase of 50%. Rwanda, a lower income country, also currently holds the highest number of women parlimentarians, with them making up 61% of seats in its lower house. There were also countries that did not progress as much. Germany started with 31% of women in parliament in 2000, but, no changes were observed in 2019. And other countries that curtailed on the proportion of women in parliament were Botswana, Netherlands, Seychelles, Bahamas, Korea, Mali, Papa New Guinea, Congo, Maldives, Turkmenistan, and Yemen.  "
   ]
  },
  {
   "cell_type": "markdown",
   "metadata": {},
   "source": [
    "![](my_icons/Week_30/Overall_largest_change.png)"
   ]
  },
  {
   "cell_type": "markdown",
   "metadata": {},
   "source": [
    "![](my_icons/Week_30/Overall_lowest_change.png)"
   ]
  },
  {
   "cell_type": "markdown",
   "metadata": {},
   "source": [
    "### By decades\n",
    "\n",
    "Most of the changes observed previosly were changes in the long run (20 years). Some countries had large changes, some had insignicantly small changes, and some had no change. Progressiveness and stagnancy could also be checked by comparing the two decades separately. "
   ]
  },
  {
   "cell_type": "markdown",
   "metadata": {},
   "source": [
    "> Note: The selected countries were just a few examples chosen based on the significant changes and should not be the only countries to be evaluated."
   ]
  },
  {
   "cell_type": "markdown",
   "metadata": {},
   "source": [
    "The first decade (2000-2009) showed some of the countries with the largest increases. The second decade (2010-2019) showed the same countries with signs of decreasing trend in the changes in the proportion of seats held by women. The small increase in the second decade for countries like Rwanda does not mean that it is not progressing. The goal for this comparison should ultimately be for gender equality to be maintained. Though Rwanda's change is small in the second decade, it successfully maintained a high amount of women in parliament. For countries mentioned above such as Germany, a stagnancy could only mean for an improvement, but the country has been doing relatively well in maintaining a somewhat large proportion of women involved in parliament."
   ]
  },
  {
   "cell_type": "markdown",
   "metadata": {},
   "source": [
    "![](my_icons/Week_30/Decade_1_largest.png)"
   ]
  },
  {
   "cell_type": "markdown",
   "metadata": {},
   "source": [
    "![](my_icons/Week_30/Decade_1_cont.png)"
   ]
  },
  {
   "cell_type": "markdown",
   "metadata": {},
   "source": [
    "Though all 193 countries could not be fully displayed in this article, the important message is that women are under-represented in political parliaments all around the world.\n"
   ]
  },
  {
   "cell_type": "markdown",
   "metadata": {},
   "source": [
    "## References:\n",
    "\n",
    "- Data sources:\n",
    "\n",
    "https://data.worldbank.org/indicator/SG.GEN.PARL.ZS\n",
    "\n",
    "- For more information on this article's insipiration on gender equality:\n",
    "\n",
    "https://www.makeovermonday.co.uk/viz5/\n",
    "\n",
    "- Other sources:\n",
    "\n",
    "IPU homepage:\n",
    "https://www.ipu.org/\n",
    "\n",
    "IPU National Parliaments:\n",
    "https://www.ipu.org/national-parliaments\n",
    "\n",
    "Top economies in the world:\n",
    "\n",
    "Silver, Caleb. (2020, March 18). The Top 20 Economies in the World. Retrieved July 29, 2020, from https://www.investopedia.com/insights/worlds-top-economies/#3-japan"
   ]
  }
 ],
 "metadata": {
  "kernelspec": {
   "display_name": "Python 3",
   "language": "python",
   "name": "python3"
  },
  "language_info": {
   "codemirror_mode": {
    "name": "ipython",
    "version": 3
   },
   "file_extension": ".py",
   "mimetype": "text/x-python",
   "name": "python",
   "nbconvert_exporter": "python",
   "pygments_lexer": "ipython3",
   "version": "3.7.3"
  }
 },
 "nbformat": 4,
 "nbformat_minor": 2
}
